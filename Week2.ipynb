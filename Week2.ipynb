{
 "cells": [
  {
   "cell_type": "code",
   "execution_count": 3,
   "id": "4c7acd24-8d3c-462c-baf6-52d349b710b1",
   "metadata": {},
   "outputs": [
    {
     "name": "stdout",
     "output_type": "stream",
     "text": [
      "The strategic plan covers the years 2024 to 2028.\n"
     ]
    }
   ],
   "source": [
    "from dotenv import load_dotenv\n",
    "from llama_index.core import VectorStoreIndex, SimpleDirectoryReader\n",
    "\n",
    "# Load environment variables\n",
    "load_dotenv()\n",
    "\n",
    "# Load documents from a directory (you can change this path as needed)\n",
    "documents = SimpleDirectoryReader(\"data\").load_data()\n",
    "\n",
    "# Create an index from the documents\n",
    "index = VectorStoreIndex.from_documents(documents)\n",
    "\n",
    "# Create a query engine\n",
    "query_engine = index.as_query_engine()\n",
    "\n",
    "# Example query\n",
    "response = query_engine.query(\"What years does the strategic plan cover?\")\n",
    "\n",
    "print(response)"
   ]
  },
  {
   "cell_type": "code",
   "execution_count": 5,
   "id": "ebb12f64-c809-4ff4-94b6-cb7e688142ff",
   "metadata": {},
   "outputs": [
    {
     "name": "stdout",
     "output_type": "stream",
     "text": [
      "2024-2028\n",
      "The God Emperor's plan covers the 24th and 25th centuries.\n"
     ]
    }
   ],
   "source": [
    "response = query_engine.query(\"What years does the banana stand plan cover?\")\n",
    "\n",
    "print(response)\n",
    "\n",
    "response = query_engine.query(\"What centuries does the God Emporer's plan cover?\")\n",
    "\n",
    "print(response)"
   ]
  },
  {
   "cell_type": "code",
   "execution_count": 20,
   "id": "70dadd7a-d93f-4a40-b423-faf80a0b88f7",
   "metadata": {},
   "outputs": [
    {
     "name": "stdout",
     "output_type": "stream",
     "text": [
      "Number of documents: 50\n"
     ]
    }
   ],
   "source": [
    "from dotenv import load_dotenv\n",
    "load_dotenv()\n",
    "\n",
    "from custom_gmail_reader import CustomGmailReader\n",
    "\n",
    "# Instantiate the CustomGmailReader\n",
    "loader = CustomGmailReader(\n",
    "    query=\"\",\n",
    "    max_results=50,\n",
    "    results_per_page=10,\n",
    "    service=None\n",
    ")\n",
    "\n",
    "# Load the emails\n",
    "documents = loader.load_data()\n",
    "\n",
    "# Print email information\n",
    "print(f\"Number of documents: {len(documents)}\")\n",
    "# for i, doc in enumerate(documents[:20]):\n",
    "#     print(f\"Document {i+1}:\")\n",
    "#     print(f\"To: {doc.metadata.get('to', 'N/A')}\")\n",
    "#     print(f\"From: {doc.metadata.get('from', 'N/A')}\")\n",
    "#     print(f\"Subject: {doc.metadata.get('subject', 'N/A')}\")\n",
    "#     print(f\"Date: {doc.metadata.get('date', 'N/A')}\")\n",
    "#     print(f\"Content snippet: {doc.text[:1000]}...\")\n",
    "#     print(\"=\" * 50)\n",
    "# trust me it works\n",
    "    "
   ]
  },
  {
   "cell_type": "code",
   "execution_count": 28,
   "id": "0952d1e6-5654-4332-84b5-033616f7783a",
   "metadata": {},
   "outputs": [],
   "source": [
    "from llama_index.core import VectorStoreIndex\n",
    "from llama_index.core.query_engine import RetrieverQueryEngine\n",
    "from llama_index.core.retrievers import VectorIndexRetriever\n",
    "\n",
    "# Create index\n",
    "index = VectorStoreIndex.from_documents(documents)\n",
    "\n",
    "# Create retriever\n",
    "retriever = VectorIndexRetriever(index=index)\n",
    "\n",
    "# Create query engine\n",
    "query_engine = RetrieverQueryEngine(retriever=retriever)\n",
    "\n",
    "# Example query\n",
    "from langfuse.decorators import observe\n",
    "\n",
    "load_dotenv()\n",
    "\n",
    "from llama_index.core import Settings\n",
    "from llama_index.core.callbacks import CallbackManager\n",
    "from langfuse.llama_index import LlamaIndexCallbackHandler\n",
    " \n",
    "langfuse_callback_handler = LlamaIndexCallbackHandler()\n",
    "Settings.callback_manager = CallbackManager([langfuse_callback_handler])\n",
    "\n",
    "@observe\n",
    "def ask_away(s):\n",
    "    response = query_engine.query(s)\n",
    "    print(response, '\\n')\n",
    "    \n"
   ]
  },
  {
   "cell_type": "code",
   "execution_count": 29,
   "id": "92a808cf-dc3a-40aa-b4f0-251fdb039089",
   "metadata": {},
   "outputs": [
    {
     "name": "stdout",
     "output_type": "stream",
     "text": [
      "The response time for hearing back about a job can vary depending on the company's hiring process. It is recommended to refer to any communication or information provided by the company regarding their timeline for getting back to applicants. \n",
      "\n",
      "You do not have any square space domains based on the provided context information. \n",
      "\n",
      "Square Space does not email you about anything based on the provided context information. \n",
      "\n",
      "Your last offer code from Eaze.com was \"LITTY\". \n",
      "\n",
      "Better has sent you two emails. \n",
      "\n",
      "Yes, Olivia has emailed you. \n",
      "\n",
      "No, Godzilla has not emailed you. \n",
      "\n"
     ]
    }
   ],
   "source": [
    "ask_away(\"When will I hear back about the NVIDIA job?\")\n",
    "ask_away(\"What are my square space domains?\")\n",
    "ask_away(\"What does square space email me about?\")\n",
    "\n",
    "ask_away(\"What was my last offer code from Eaze.com?\")\n",
    "ask_away(\"How many emails has Better sent me?\")\n",
    "\n",
    "ask_away(\"Has olivia emailed me?\")\n",
    "ask_away(\"Has Godzilla emailed me?\")\n"
   ]
  },
  {
   "cell_type": "code",
   "execution_count": 30,
   "id": "8e6aa92a-0b77-4022-9823-b93a67b682a8",
   "metadata": {},
   "outputs": [
    {
     "name": "stdout",
     "output_type": "stream",
     "text": [
      "No, Godzilla has not emailed you based on the provided context information. \n",
      "\n"
     ]
    }
   ],
   "source": [
    "ask_away(\"Has Godzilla emailed me yet?\")"
   ]
  },
  {
   "cell_type": "code",
   "execution_count": null,
   "id": "3367567e-a774-46fe-817a-a6e9745d744f",
   "metadata": {},
   "outputs": [],
   "source": []
  }
 ],
 "metadata": {
  "kernelspec": {
   "display_name": "Python 3 (ipykernel)",
   "language": "python",
   "name": "python3"
  },
  "language_info": {
   "codemirror_mode": {
    "name": "ipython",
    "version": 3
   },
   "file_extension": ".py",
   "mimetype": "text/x-python",
   "name": "python",
   "nbconvert_exporter": "python",
   "pygments_lexer": "ipython3",
   "version": "3.10.12"
  }
 },
 "nbformat": 4,
 "nbformat_minor": 5
}
