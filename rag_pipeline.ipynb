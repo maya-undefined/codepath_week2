{
 "cells": [
  {
   "cell_type": "code",
   "execution_count": 16,
   "id": "e1150ab7-cce6-4363-af47-d5e1d85adbe3",
   "metadata": {},
   "outputs": [
    {
     "name": "stdout",
     "output_type": "stream",
     "text": [
      "Number of relevant documents: 2\n",
      "\n",
      "==================================================\n",
      "\n"
     ]
    }
   ],
   "source": [
    "import openai\n",
    "from dotenv import load_dotenv\n",
    "from llama_index.core import VectorStoreIndex, SimpleDirectoryReader\n",
    "\n",
    "load_dotenv()\n",
    "\n",
    "from custom_gmail_reader import CustomGmailReader\n",
    "\n",
    "# Instantiate the CustomGmailReader\n",
    "loader = CustomGmailReader(\n",
    "    query=\"\",\n",
    "    max_results=50,\n",
    "    results_per_page=10,\n",
    "    service=None\n",
    ")\n",
    "\n",
    "# Load the emails\n",
    "documents = loader.load_data()\n",
    "\n",
    "\n",
    "index = VectorStoreIndex.from_documents(documents)\n",
    "\n",
    "# Create a retriever to fetch relevant documents\n",
    "retriever = index.as_retriever(retrieval_mode='similarity', k=3)\n",
    "\n",
    "prompt = \"Here is a list of emails regarding the topic you will see at the bottom of this question: \\n\"\n",
    "\n",
    "# Define your query\n",
    "query = \"What did Olivia email me about?\"\n",
    "\n",
    "# Retrieve relevant documents\n",
    "relevant_docs = retriever.retrieve(query)\n",
    "\n",
    "print(f\"Number of relevant documents: {len(relevant_docs)}\")\n",
    "print(\"\\n\" + \"=\"*50 + \"\\n\")\n",
    "\n",
    "# for i, doc in enumerate(relevant_docs):\n",
    "#     print(f\"Document {i+1}:\")\n",
    "#     print(f\"Text sample: {doc.node.get_content()[:200]}...\")  # Print first 200 characters\n",
    "#     print(f\"Metadata: {doc.node.metadata}\")\n",
    "#     print(f\"Score: {doc.score}\")\n",
    "#     print(\"\\n\" + \"=\"*50 + \"\\n\")\n",
    "\n",
    "for i, doc in enumerate(relevant_docs):\n",
    "    prompt += f\"Document {i+1}:\"\n",
    "    prompt += f\"Text sample: {doc.node.get_content()}...\" \n",
    "    prompt += f\"Metadata: {doc.node.metadata}\"\n",
    "    prompt += f\"Score: {doc.score}\"\n",
    "    # print(\"\\n\" + \"=\"*50 + \"\\n\")\n",
    "\n"
   ]
  },
  {
   "cell_type": "code",
   "execution_count": 26,
   "id": "1f8ee65c-7af5-4814-b555-061bbc4aea18",
   "metadata": {},
   "outputs": [],
   "source": [
    "from langfuse.decorators import observe\n",
    "from llama_index.core.query_engine import RetrieverQueryEngine\n",
    "\n",
    "\n",
    "query_engine = RetrieverQueryEngine(retriever=retriever)\n",
    "\n",
    "@observe\n",
    "def ask_away(s, prompt):\n",
    "    ques = prompt + \"\\n\" + \"Question is: \" + s\n",
    "    response = query_engine.query(ques)\n",
    "    print(response, '\\n')\n",
    "    "
   ]
  },
  {
   "cell_type": "code",
   "execution_count": 27,
   "id": "ae5ed301-452d-41fe-8ac1-b4b40c7e6251",
   "metadata": {},
   "outputs": [
    {
     "name": "stdout",
     "output_type": "stream",
     "text": [
      "Olivia emailed you to confirm the scheduled call for 130 PT on Wednesday and provided information on how to best prepare for the interview, including reviewing the company website, watching culture and product videos, and being ready to discuss instances of exceptional performance or notable results. Additionally, she mentioned the Shield AI 'Benefits at a Glance' and asked for confirmation if the scheduled time no longer works. \n",
      "\n"
     ]
    }
   ],
   "source": [
    "# print(prompt)\n",
    "ask_away(\"What did Olivia email me about?\", prompt)"
   ]
  },
  {
   "cell_type": "code",
   "execution_count": 29,
   "id": "faaf5080-22ea-43d8-99a7-826ca096f5e3",
   "metadata": {},
   "outputs": [
    {
     "name": "stdout",
     "output_type": "stream",
     "text": [
      "You responded appropriately and did not sound nervous, eager, or desperate in your email exchanges. \n",
      "\n"
     ]
    }
   ],
   "source": [
    "ask_away(\"Did I respond correctly? Did I sound too nervous or eager or desperate?\", prompt)"
   ]
  },
  {
   "cell_type": "code",
   "execution_count": null,
   "id": "ee4e723a-ccd4-4faf-8396-e9c328c74e19",
   "metadata": {},
   "outputs": [],
   "source": []
  }
 ],
 "metadata": {
  "kernelspec": {
   "display_name": "Python 3 (ipykernel)",
   "language": "python",
   "name": "python3"
  },
  "language_info": {
   "codemirror_mode": {
    "name": "ipython",
    "version": 3
   },
   "file_extension": ".py",
   "mimetype": "text/x-python",
   "name": "python",
   "nbconvert_exporter": "python",
   "pygments_lexer": "ipython3",
   "version": "3.10.12"
  }
 },
 "nbformat": 4,
 "nbformat_minor": 5
}
